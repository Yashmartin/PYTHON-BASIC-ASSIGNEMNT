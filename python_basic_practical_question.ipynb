{
  "nbformat": 4,
  "nbformat_minor": 0,
  "metadata": {
    "colab": {
      "provenance": []
    },
    "kernelspec": {
      "name": "python3",
      "display_name": "Python 3"
    },
    "language_info": {
      "name": "python"
    }
  },
  "cells": [
    {
      "cell_type": "code",
      "execution_count": 1,
      "metadata": {
        "colab": {
          "base_uri": "https://localhost:8080/",
          "height": 35
        },
        "id": "BZVak_GTLIe2",
        "outputId": "1e67b8dd-0f33-4435-d271-fbea168b2214"
      },
      "outputs": [
        {
          "output_type": "execute_result",
          "data": {
            "text/plain": [
              "'hello world'"
            ],
            "application/vnd.google.colaboratory.intrinsic+json": {
              "type": "string"
            }
          },
          "metadata": {},
          "execution_count": 1
        }
      ],
      "source": [
        "(\"hello world\")"
      ]
    },
    {
      "cell_type": "code",
      "source": [
        "print(\"My name is {yash martin} and I am {23} years old.\")"
      ],
      "metadata": {
        "colab": {
          "base_uri": "https://localhost:8080/"
        },
        "id": "5ZMSA4tMLZq6",
        "outputId": "2207ffde-b0ec-40e2-cbb8-f076e0d64e55"
      },
      "execution_count": 2,
      "outputs": [
        {
          "output_type": "stream",
          "name": "stdout",
          "text": [
            "My name is {yash martin} and I am {23} years old.\n"
          ]
        }
      ]
    },
    {
      "cell_type": "code",
      "source": [
        "import keyword\n",
        "\n",
        "print(\"run:\")\n",
        "print(keyword.kwlist)"
      ],
      "metadata": {
        "colab": {
          "base_uri": "https://localhost:8080/"
        },
        "id": "mOfMR2ujNBWK",
        "outputId": "a0e86919-7fc1-4beb-cac5-474586a12ad9"
      },
      "execution_count": 8,
      "outputs": [
        {
          "output_type": "stream",
          "name": "stdout",
          "text": [
            "run:\n",
            "['False', 'None', 'True', 'and', 'as', 'assert', 'async', 'await', 'break', 'class', 'continue', 'def', 'del', 'elif', 'else', 'except', 'finally', 'for', 'from', 'global', 'if', 'import', 'in', 'is', 'lambda', 'nonlocal', 'not', 'or', 'pass', 'raise', 'return', 'try', 'while', 'with', 'yield']\n"
          ]
        }
      ]
    },
    {
      "cell_type": "code",
      "source": [
        "import keyword\n",
        "\n",
        "def is_keyword(word):\n",
        "  \"\"\"Checks if a word is a Python keyword.\n",
        "\n",
        "  Args:\n",
        "    word: The word to check.\n",
        "\n",
        "  Returns:\n",
        "    True if the word is a keyword, False otherwise.\n",
        "  \"\"\"\n",
        "  return keyword.iskeyword(word)\n",
        "\n",
        "# Example usage\n",
        "word1 = \"for\"\n",
        "word2 = \"example\"\n",
        "\n",
        "print(f\"'{word1}' is a keyword: {is_keyword(word1)}\")\n",
        "print(f\"'{word2}' is a keyword: {is_keyword(word2)}\")"
      ],
      "metadata": {
        "colab": {
          "base_uri": "https://localhost:8080/"
        },
        "id": "ZwPrxqfxPnd9",
        "outputId": "c36a30f3-6e88-4f57-fc74-55e3d030cf33"
      },
      "execution_count": 15,
      "outputs": [
        {
          "output_type": "stream",
          "name": "stdout",
          "text": [
            "'for' is a keyword: True\n",
            "'example' is a keyword: False\n"
          ]
        }
      ]
    },
    {
      "cell_type": "code",
      "source": [
        "# Creating a list\n",
        "my_list = [\"apple\", \"banana\", \"cherry\"]\n",
        "\n",
        "# Creating a tuple\n",
        "my_tuple = (\"orange\", \"mango\", \"grape\")\n",
        "\n",
        "# Trying to change an element in the list\n",
        "print(\"Original list:\", my_list)\n",
        "my_list[1] = \"kiwi\"  # This works, as lists are mutable\n",
        "print(\"Updated list:\", my_list)\n",
        "\n",
        "# Trying to change an element in the tuple (will result in an error)\n",
        "print(\"Original tuple:\", my_tuple)\n",
        "try:\n",
        "    my_tuple[1] = \"pineapple\"  # This will raise a TypeError\n",
        "except TypeError as e:\n",
        "    print(\"Error:\", e)"
      ],
      "metadata": {
        "colab": {
          "base_uri": "https://localhost:8080/"
        },
        "id": "y3RwDVlxP78K",
        "outputId": "de1b8377-da62-4141-9672-cf660516cd50"
      },
      "execution_count": 16,
      "outputs": [
        {
          "output_type": "stream",
          "name": "stdout",
          "text": [
            "Original list: ['apple', 'banana', 'cherry']\n",
            "Updated list: ['apple', 'kiwi', 'cherry']\n",
            "Original tuple: ('orange', 'mango', 'grape')\n",
            "Error: 'tuple' object does not support item assignment\n"
          ]
        }
      ]
    },
    {
      "cell_type": "code",
      "source": [
        "def modify_data(immutable, mutable):\n",
        "    immutable = immutable * 2\n",
        "    mutable.append(4)\n",
        "    return immutable\n",
        "\n",
        "immutable_data = 10\n",
        "mutable_data = [1, 2, 3]\n",
        "returned_immutable = modify_data(immutable_data, mutable_data)\n",
        "\n",
        "print(\"Immutable data:\", immutable_data)\n",
        "print(\"Returned immutable data:\", returned_immutable)\n",
        "print(\"Mutable data:\", mutable_data)"
      ],
      "metadata": {
        "colab": {
          "base_uri": "https://localhost:8080/"
        },
        "id": "GVl_emyhQXAI",
        "outputId": "6239311b-5b14-425b-8ba0-08b054d0044f"
      },
      "execution_count": 17,
      "outputs": [
        {
          "output_type": "stream",
          "name": "stdout",
          "text": [
            "Immutable data: 10\n",
            "Returned immutable data: 20\n",
            "Mutable data: [1, 2, 3, 4]\n"
          ]
        }
      ]
    },
    {
      "cell_type": "code",
      "source": [
        "# Example: Logical Operators (AND, OR, NOT) with generic variables\n",
        "a, b, c = True, False, True\n",
        "\n",
        "# AND: Both conditions must be True\n",
        "if a and c:\n",
        "    print(\"Both a and c are True (AND condition).\")\n",
        "\n",
        "# OR: At least one condition must be True\n",
        "if b or c:\n",
        "    print(\"Either b or c is True (OR condition).\")\n",
        "\n",
        "# NOT: Reverses the condition\n",
        "if not b:\n",
        "    print(\"b is False (NOT condition).\")\n"
      ],
      "metadata": {
        "colab": {
          "base_uri": "https://localhost:8080/"
        },
        "id": "KGU7aBp4Q4Ss",
        "outputId": "9c5146e3-01d2-4498-c9d9-9c1cbdbb00d8"
      },
      "execution_count": 18,
      "outputs": [
        {
          "output_type": "stream",
          "name": "stdout",
          "text": [
            "Both a and c are True (AND condition).\n",
            "Either b or c is True (OR condition).\n",
            "b is False (NOT condition).\n"
          ]
        }
      ]
    },
    {
      "cell_type": "code",
      "source": [
        "s = \"91\"\n",
        "num = int(s)\n",
        "print(num)\n"
      ],
      "metadata": {
        "colab": {
          "base_uri": "https://localhost:8080/"
        },
        "id": "uFzmH1-uRRbw",
        "outputId": "d0b414f1-7ceb-460a-ff01-c634e9f3c004"
      },
      "execution_count": 19,
      "outputs": [
        {
          "output_type": "stream",
          "name": "stdout",
          "text": [
            "91\n"
          ]
        }
      ]
    },
    {
      "cell_type": "code",
      "source": [
        "string = \"33.28\"\n",
        "\n",
        "# using float method to convert string to float\n",
        "num = float(string)\n",
        "\n",
        "print(num)\n",
        "print(type(num))\n"
      ],
      "metadata": {
        "colab": {
          "base_uri": "https://localhost:8080/"
        },
        "id": "Z5tHqYkGR0_R",
        "outputId": "57033cc9-c729-4a4a-a8cc-1aa5cf5780c1"
      },
      "execution_count": 20,
      "outputs": [
        {
          "output_type": "stream",
          "name": "stdout",
          "text": [
            "33.28\n",
            "<class 'float'>\n"
          ]
        }
      ]
    },
    {
      "cell_type": "code",
      "source": [
        "s = \"True\"\n",
        "\n",
        "# Convert string to boolean using eval\n",
        "boolean_value = eval(s)\n",
        "\n",
        "print(boolean_value)\n"
      ],
      "metadata": {
        "colab": {
          "base_uri": "https://localhost:8080/"
        },
        "id": "Zj9FghYbUwby",
        "outputId": "f9c539ea-fb7f-41f9-d040-0b7dee3fd3fd"
      },
      "execution_count": 27,
      "outputs": [
        {
          "output_type": "stream",
          "name": "stdout",
          "text": [
            "True\n"
          ]
        }
      ]
    },
    {
      "cell_type": "code",
      "source": [
        "# Initial list with mixed data types\n",
        "my_list = ['1', '2', '3.14', 4, 5.6]\n",
        "\n",
        "# Type casting elements to integers\n",
        "int_list = [int(x) for x in my_list if isinstance(x, str) and x.isdigit()]\n",
        "# Type casting elements to floats\n",
        "float_list = [float(x) for x in my_list if isinstance(x, str)]\n",
        "# Type casting elements to strings\n",
        "str_list = [str(x) for x in my_list]\n",
        "\n",
        "# Printing the results\n",
        "print(\"Original List:\", my_list)\n",
        "print(\"Integer List:\", int_list)\n",
        "print(\"Float List:\", float_list)\n",
        "print(\"String List:\", str_list)"
      ],
      "metadata": {
        "colab": {
          "base_uri": "https://localhost:8080/"
        },
        "id": "DK4WLz4UU4az",
        "outputId": "b91033b1-51fa-4ea8-f8af-289a0149cdef"
      },
      "execution_count": 28,
      "outputs": [
        {
          "output_type": "stream",
          "name": "stdout",
          "text": [
            "Original List: ['1', '2', '3.14', 4, 5.6]\n",
            "Integer List: [1, 2]\n",
            "Float List: [1.0, 2.0, 3.14]\n",
            "String List: ['1', '2', '3.14', '4', '5.6']\n"
          ]
        }
      ]
    },
    {
      "cell_type": "code",
      "source": [
        "def check_number(num):\n",
        "    if num > 0:\n",
        "        print(f\"{num} is positive.\")\n",
        "    elif num < 0:\n",
        "        print(f\"{num} is negative.\")\n",
        "    else:\n",
        "        print(f\"{num} is zero.\")\n",
        "\n",
        "# Get user input\n",
        "number = float(input(\"Enter a number: \"))\n",
        "\n",
        "# Check the number\n",
        "check_number(number)"
      ],
      "metadata": {
        "colab": {
          "base_uri": "https://localhost:8080/"
        },
        "id": "ywFer3W2WNtO",
        "outputId": "95d0d111-a521-4672-d031-cf240f402163"
      },
      "execution_count": 30,
      "outputs": [
        {
          "output_type": "stream",
          "name": "stdout",
          "text": [
            "Enter a number: 5\n",
            "5.0 is positive.\n"
          ]
        }
      ]
    },
    {
      "cell_type": "code",
      "source": [
        "for i in range(1, 11):\n",
        "    print(i)"
      ],
      "metadata": {
        "colab": {
          "base_uri": "https://localhost:8080/"
        },
        "id": "d5KQGueUWTiz",
        "outputId": "f42814ef-10a3-4b52-c4ef-352d84f97559"
      },
      "execution_count": 31,
      "outputs": [
        {
          "output_type": "stream",
          "name": "stdout",
          "text": [
            "1\n",
            "2\n",
            "3\n",
            "4\n",
            "5\n",
            "6\n",
            "7\n",
            "8\n",
            "9\n",
            "10\n"
          ]
        }
      ]
    },
    {
      "cell_type": "code",
      "source": [
        "sum_even = 0\n",
        "for number in range(2, 51, 2):\n",
        "    sum_even += number\n",
        "print(f\"The sum of even numbers between 1 and 50 is: {sum_even}\")"
      ],
      "metadata": {
        "colab": {
          "base_uri": "https://localhost:8080/"
        },
        "id": "NosIbQNmWlq_",
        "outputId": "7b2b68c1-33f9-4fc1-c8b7-d9c30bb97406"
      },
      "execution_count": 32,
      "outputs": [
        {
          "output_type": "stream",
          "name": "stdout",
          "text": [
            "The sum of even numbers between 1 and 50 is: 650\n"
          ]
        }
      ]
    },
    {
      "cell_type": "code",
      "source": [
        "def reverse_string(s):\n",
        "    reversed_s = \"\"\n",
        "    length = len(s) - 1\n",
        "    while length >= 0:\n",
        "        reversed_s += s[length]\n",
        "        length -= 1\n",
        "    return reversed_s\n",
        "\n",
        "input_string = \"Hello, pwskills!\"\n",
        "reversed_string = reverse_string(input_string)\n",
        "print(f\"Original string: {input_string}\")\n",
        "print(f\"Reversed string: {reversed_string}\")"
      ],
      "metadata": {
        "colab": {
          "base_uri": "https://localhost:8080/"
        },
        "id": "V8CLhJn7W3AQ",
        "outputId": "6da9ee45-1230-4200-b952-102dcd7007eb"
      },
      "execution_count": 33,
      "outputs": [
        {
          "output_type": "stream",
          "name": "stdout",
          "text": [
            "Original string: Hello, pwskills!\n",
            "Reversed string: !sllikswp ,olleH\n"
          ]
        }
      ]
    },
    {
      "cell_type": "code",
      "source": [
        "def factorial(num):\n",
        "    \"\"\"\n",
        "    Calculates the factorial of a given number using a while loop.\n",
        "    \"\"\"\n",
        "    if num < 0:\n",
        "        return \"Factorial is not defined for negative numbers\"\n",
        "    result = 1\n",
        "    i = 1\n",
        "    while i <= num:\n",
        "        result *= i\n",
        "        i += 1\n",
        "    return result\n",
        "\n",
        "# Get user input\n",
        "number = int(input(\"Enter a number to find its factorial: \"))\n",
        "\n",
        "# Calculate and print the factorial\n",
        "print(f\"The factorial of {number} is: {factorial(number)}\")"
      ],
      "metadata": {
        "colab": {
          "base_uri": "https://localhost:8080/"
        },
        "id": "dZDtSS1xXGoW",
        "outputId": "78de41c1-67c3-4f3c-aa79-f696528030cc"
      },
      "execution_count": 34,
      "outputs": [
        {
          "output_type": "stream",
          "name": "stdout",
          "text": [
            "Enter a number to find its factorial: 7\n",
            "The factorial of 7 is: 5040\n"
          ]
        }
      ]
    }
  ]
}